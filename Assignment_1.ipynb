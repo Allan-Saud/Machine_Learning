{
 "cells": [
  {
   "cell_type": "code",
   "execution_count": 1,
   "id": "cec8ee98-6312-4188-a5b4-9699128a8829",
   "metadata": {},
   "outputs": [
    {
     "data": {
      "text/plain": [
       "['Chakka Panja', '12 Gaun']"
      ]
     },
     "execution_count": 1,
     "metadata": {},
     "output_type": "execute_result"
    }
   ],
   "source": [
    "movies_name=[\"Chakka Panja\",\"12 Gaun\"]\n",
    "movies_name"
   ]
  },
  {
   "cell_type": "code",
   "execution_count": 2,
   "id": "890c5737-865d-4644-90af-d6fb58a18579",
   "metadata": {},
   "outputs": [
    {
     "data": {
      "text/plain": [
       "['Chakka Panja', '12 Gaun', 'Purna Bahadur Sarangi']"
      ]
     },
     "execution_count": 2,
     "metadata": {},
     "output_type": "execute_result"
    }
   ],
   "source": [
    "movies_name.append(\"Purna Bahadur Sarangi\")\n",
    "movies_name"
   ]
  },
  {
   "cell_type": "code",
   "execution_count": 4,
   "id": "9d707abc-fc8e-43fc-a0af-520921bfcaf3",
   "metadata": {},
   "outputs": [
    {
     "data": {
      "text/plain": [
       "[1, 2, 3, 4, 5, 6, 7, 8, 9, 10]"
      ]
     },
     "execution_count": 4,
     "metadata": {},
     "output_type": "execute_result"
    }
   ],
   "source": [
    "list_of_numbers=list(range(1,11))\n",
    "list_of_numbers"
   ]
  },
  {
   "cell_type": "code",
   "execution_count": 5,
   "id": "7e3eea66-9983-480e-a3f3-32ee6c9673ce",
   "metadata": {},
   "outputs": [
    {
     "data": {
      "text/plain": [
       "55"
      ]
     },
     "execution_count": 5,
     "metadata": {},
     "output_type": "execute_result"
    }
   ],
   "source": [
    "sum_list=sum(list_of_numbers)\n",
    "sum_list\n"
   ]
  },
  {
   "cell_type": "code",
   "execution_count": 10,
   "id": "0beb1fb7-075e-4fe9-bcbe-87e7ed97bbd2",
   "metadata": {},
   "outputs": [
    {
     "data": {
      "text/plain": [
       "['Allan', 1, 1.2]"
      ]
     },
     "execution_count": 10,
     "metadata": {},
     "output_type": "execute_result"
    }
   ],
   "source": [
    "mixed_list=[\"Allan\",1,1.2]\n",
    "mixed_list"
   ]
  },
  {
   "cell_type": "code",
   "execution_count": 11,
   "id": "476eab90-1fd5-4a79-bdfd-f769051adbbd",
   "metadata": {},
   "outputs": [
    {
     "name": "stdout",
     "output_type": "stream",
     "text": [
      "Allan\n"
     ]
    }
   ],
   "source": [
    "print(mixed_list.pop(0))\n"
   ]
  },
  {
   "cell_type": "code",
   "execution_count": 12,
   "id": "8db89a32-3b9a-4a5c-a69e-d7afc1485196",
   "metadata": {},
   "outputs": [
    {
     "data": {
      "text/plain": [
       "[1, 1.2]"
      ]
     },
     "execution_count": 12,
     "metadata": {},
     "output_type": "execute_result"
    }
   ],
   "source": [
    "mixed_list"
   ]
  },
  {
   "cell_type": "code",
   "execution_count": 13,
   "id": "0cb3b1ba-5bb3-45a9-8dd0-7d46324dd5ab",
   "metadata": {},
   "outputs": [
    {
     "data": {
      "text/plain": [
       "('Sunday', 'Monday', 'Tuesday', 'Wednesday', 'Thursday', 'Friday', 'Saturday')"
      ]
     },
     "execution_count": 13,
     "metadata": {},
     "output_type": "execute_result"
    }
   ],
   "source": [
    "days_name=(\"Sunday\",\"Monday\",\"Tuesday\",\"Wednesday\",\"Thursday\",\"Friday\",\"Saturday\")\n",
    "days_name"
   ]
  },
  {
   "cell_type": "code",
   "execution_count": 15,
   "id": "63b56635-90e8-4956-8fae-d4af7fb16bbc",
   "metadata": {},
   "outputs": [
    {
     "data": {
      "text/plain": [
       "'Tuesday'"
      ]
     },
     "execution_count": 15,
     "metadata": {},
     "output_type": "execute_result"
    }
   ],
   "source": [
    "third_days=days_name[2]\n",
    "third_days"
   ]
  },
  {
   "cell_type": "code",
   "execution_count": 16,
   "id": "7a7465c5-6da5-4401-9065-1bb59b896adf",
   "metadata": {},
   "outputs": [
    {
     "data": {
      "text/plain": [
       "('red', 'green', 'blue', 'yellow')"
      ]
     },
     "execution_count": 16,
     "metadata": {},
     "output_type": "execute_result"
    }
   ],
   "source": [
    "colors=(\"red\",\"green\",\"blue\",\"yellow\")\n",
    "colors"
   ]
  },
  {
   "cell_type": "code",
   "execution_count": 20,
   "id": "1bce5d08-b78d-40a5-8a7d-3679747fcfed",
   "metadata": {},
   "outputs": [
    {
     "name": "stdout",
     "output_type": "stream",
     "text": [
      "the specified color contains in above tuple  \n"
     ]
    }
   ],
   "source": [
    " \"green\" in colors\n",
    "print(\"the specified color contains in above tuple  \")"
   ]
  },
  {
   "cell_type": "code",
   "execution_count": 21,
   "id": "5491cf9e-839b-4652-9546-c989cf234cc7",
   "metadata": {},
   "outputs": [
    {
     "data": {
      "text/plain": [
       "{'title': 'Power of Subconcious Mind', 'author': 'Joseph Murphy', 'year': 1963}"
      ]
     },
     "execution_count": 21,
     "metadata": {},
     "output_type": "execute_result"
    }
   ],
   "source": [
    "book_dic={\n",
    "    \"title\":\"Power of Subconcious Mind\",\n",
    "    \"author\":\"Joseph Murphy\",\n",
    "    \"year\":1963\n",
    "}\n",
    "book_dic"
   ]
  },
  {
   "cell_type": "code",
   "execution_count": 23,
   "id": "fb3e2c0c-3d02-4ead-bfd5-fc297bd7dca8",
   "metadata": {},
   "outputs": [
    {
     "data": {
      "text/plain": [
       "{'apple': 'red', 'banana': 'yellow'}"
      ]
     },
     "execution_count": 23,
     "metadata": {},
     "output_type": "execute_result"
    }
   ],
   "source": [
    "fruits_dic={\n",
    "    \"apple\":\"red\",\n",
    "    \"banana\":\"yellow\"\n",
    "    \n",
    "}\n",
    "fruits_dic"
   ]
  },
  {
   "cell_type": "code",
   "execution_count": 24,
   "id": "dbe4035d-85e9-4c36-8bdf-4fd6036e5ac7",
   "metadata": {},
   "outputs": [
    {
     "data": {
      "text/plain": [
       "{'apple': 'red', 'banana': 'yellow', 'mango': 'yellow'}"
      ]
     },
     "execution_count": 24,
     "metadata": {},
     "output_type": "execute_result"
    }
   ],
   "source": [
    "fruits_dic[\"mango\"]=\"yellow\"\n",
    "fruits_dic"
   ]
  },
  {
   "cell_type": "code",
   "execution_count": 25,
   "id": "ca65234c-f5bf-41d7-ab52-390cf8506ea9",
   "metadata": {},
   "outputs": [
    {
     "data": {
      "text/plain": [
       "{'Kathmandu': 10000, 'Bhaktapur': 20000, 'Lalitpur': 3000}"
      ]
     },
     "execution_count": 25,
     "metadata": {},
     "output_type": "execute_result"
    }
   ],
   "source": [
    "cities_dic={\n",
    "    \"Kathmandu\":10000,\n",
    "    \"Bhaktapur\":20000,\n",
    "    \"Lalitpur\":3000\n",
    "}\n",
    "cities_dic"
   ]
  },
  {
   "cell_type": "code",
   "execution_count": 28,
   "id": "f1925aa4-ec6c-42a8-ada3-3fdc332897b3",
   "metadata": {},
   "outputs": [
    {
     "data": {
      "text/plain": [
       "{'Bhaktapur': 20000, 'Lalitpur': 3000}"
      ]
     },
     "execution_count": 28,
     "metadata": {},
     "output_type": "execute_result"
    }
   ],
   "source": [
    "cities_dic.pop(\"Kathmandu\")\n",
    "cities_dic"
   ]
  },
  {
   "cell_type": "code",
   "execution_count": null,
   "id": "845a2a18-f1cc-4c6d-b2f7-c0916b091071",
   "metadata": {},
   "outputs": [],
   "source": []
  }
 ],
 "metadata": {
  "kernelspec": {
   "display_name": "Python 3 (ipykernel)",
   "language": "python",
   "name": "python3"
  },
  "language_info": {
   "codemirror_mode": {
    "name": "ipython",
    "version": 3
   },
   "file_extension": ".py",
   "mimetype": "text/x-python",
   "name": "python",
   "nbconvert_exporter": "python",
   "pygments_lexer": "ipython3",
   "version": "3.11.7"
  }
 },
 "nbformat": 4,
 "nbformat_minor": 5
}
