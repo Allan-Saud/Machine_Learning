{
 "cells": [
  {
   "cell_type": "markdown",
   "id": "f3a6d9dd-f78f-417c-8b12-3a8ec9091a2e",
   "metadata": {},
   "source": [
    "Q.N.1"
   ]
  },
  {
   "cell_type": "markdown",
   "id": "f0f5fa14-d39f-492b-8921-c81cddc23587",
   "metadata": {},
   "source": [
    "Scalar is a single value(0-dimensional array)\n",
    "vector is a (1-dimensional array)containing a sequence of values.\n",
    "matrix is a (2-dimensinal array) containing rows and columns "
   ]
  },
  {
   "cell_type": "markdown",
   "id": "6410f43a-c2ec-40ef-bec3-6451c4eaa731",
   "metadata": {},
   "source": [
    "Q.N.2\n",
    "We can create an arry with evenly spaced values within a range\n",
    "using np.arange(start,stop,step) OR\n",
    "np.linspace(start,stop,num)"
   ]
  },
  {
   "cell_type": "code",
   "execution_count": 4,
   "id": "6dab4cfb-93fe-4e51-91e6-8fce0cdf5909",
   "metadata": {},
   "outputs": [
    {
     "data": {
      "text/plain": [
       "array([0, 2, 4, 6, 8])"
      ]
     },
     "execution_count": 4,
     "metadata": {},
     "output_type": "execute_result"
    }
   ],
   "source": [
    "import numpy as np\n",
    "n=np.arange(0,10,2)\n",
    "n"
   ]
  },
  {
   "cell_type": "code",
   "execution_count": 5,
   "id": "664ca77b-1b0c-4348-8042-0e53f2cf387c",
   "metadata": {},
   "outputs": [
    {
     "data": {
      "text/plain": [
       "array([0.  , 0.25, 0.5 , 0.75, 1.  ])"
      ]
     },
     "execution_count": 5,
     "metadata": {},
     "output_type": "execute_result"
    }
   ],
   "source": [
    "linspace=np.linspace(0,1,5)\n",
    "linspace"
   ]
  },
  {
   "cell_type": "markdown",
   "id": "5839f26a-519a-45e9-ab27-9c00c28d61e5",
   "metadata": {},
   "source": [
    "Q.N.3\n"
   ]
  },
  {
   "cell_type": "markdown",
   "id": "d94234d2-9539-4c2b-b95a-b738c419140c",
   "metadata": {},
   "source": [
    "Array Broadcasting allows Numpy to perform arithematic operations on arrays of different shapes by automatically expanding smaller arrays to match the shape of larger arrays"
   ]
  },
  {
   "cell_type": "code",
   "execution_count": 6,
   "id": "5da8d1b0-c4e9-43a0-8ab9-b55ecfba3bfa",
   "metadata": {},
   "outputs": [
    {
     "data": {
      "text/plain": [
       "array([1, 2, 3])"
      ]
     },
     "execution_count": 6,
     "metadata": {},
     "output_type": "execute_result"
    }
   ],
   "source": [
    "a=np.array([1,2,3])\n",
    "a"
   ]
  },
  {
   "cell_type": "code",
   "execution_count": 8,
   "id": "33a8e36d-5053-471b-8b44-350b76eafec2",
   "metadata": {},
   "outputs": [
    {
     "data": {
      "text/plain": [
       "array([[1],\n",
       "       [2],\n",
       "       [3]])"
      ]
     },
     "execution_count": 8,
     "metadata": {},
     "output_type": "execute_result"
    }
   ],
   "source": [
    "b=np.array([[1],[2],[3]])\n",
    "b"
   ]
  },
  {
   "cell_type": "code",
   "execution_count": 9,
   "id": "5905a1e4-8d84-43d8-a430-547a98a02d46",
   "metadata": {},
   "outputs": [
    {
     "data": {
      "text/plain": [
       "array([[2, 3, 4],\n",
       "       [3, 4, 5],\n",
       "       [4, 5, 6]])"
      ]
     },
     "execution_count": 9,
     "metadata": {},
     "output_type": "execute_result"
    }
   ],
   "source": [
    "res=a+b\n",
    "res"
   ]
  },
  {
   "cell_type": "markdown",
   "id": "779db8c0-b90a-4b2e-9e85-2a43a59b645b",
   "metadata": {},
   "source": [
    "Q.N.4\n",
    "using arithemati operations such as (+,-,*,/) directly on arrays we can perform element-wose operations on numpyarrays"
   ]
  },
  {
   "cell_type": "code",
   "execution_count": 13,
   "id": "c8cf3240-202b-4c6b-a16f-11943dce1fee",
   "metadata": {},
   "outputs": [
    {
     "data": {
      "text/plain": [
       "array([1, 2, 3])"
      ]
     },
     "execution_count": 13,
     "metadata": {},
     "output_type": "execute_result"
    }
   ],
   "source": [
    "a1=np.array([1,2,3])\n",
    "a2=np.array([5,6,7])\n",
    "a1\n"
   ]
  },
  {
   "cell_type": "code",
   "execution_count": 14,
   "id": "eca32843-6059-4104-b3b6-22c275f639f3",
   "metadata": {},
   "outputs": [
    {
     "data": {
      "text/plain": [
       "array([5, 6, 7])"
      ]
     },
     "execution_count": 14,
     "metadata": {},
     "output_type": "execute_result"
    }
   ],
   "source": [
    "a2"
   ]
  },
  {
   "cell_type": "code",
   "execution_count": 15,
   "id": "2b61dfc9-2685-48b5-9322-72a269cf5e3c",
   "metadata": {},
   "outputs": [
    {
     "data": {
      "text/plain": [
       "array([ 6,  8, 10])"
      ]
     },
     "execution_count": 15,
     "metadata": {},
     "output_type": "execute_result"
    }
   ],
   "source": [
    "add=a1+a2\n",
    "add"
   ]
  },
  {
   "cell_type": "code",
   "execution_count": 17,
   "id": "47168838-51b2-421a-bbf9-4424fedd3791",
   "metadata": {},
   "outputs": [
    {
     "data": {
      "text/plain": [
       "array([-4, -4, -4])"
      ]
     },
     "execution_count": 17,
     "metadata": {},
     "output_type": "execute_result"
    }
   ],
   "source": [
    "sub=a1-a2\n",
    "sub"
   ]
  },
  {
   "cell_type": "code",
   "execution_count": null,
   "id": "8e25184c-2cea-4d1b-b2a4-0e9449a18ee5",
   "metadata": {},
   "outputs": [],
   "source": []
  },
  {
   "cell_type": "markdown",
   "id": "8e021a3e-dc83-4a8d-9d97-2ddf50385f3e",
   "metadata": {},
   "source": [
    "Q.N.5\n",
    "\n",
    "the purpose of np.newaxis is to add a new dimension to an array"
   ]
  },
  {
   "cell_type": "code",
   "execution_count": 18,
   "id": "17cfc633-9093-4d55-b2f6-8dc53b795c3b",
   "metadata": {},
   "outputs": [
    {
     "data": {
      "text/plain": [
       "array([1, 2, 3])"
      ]
     },
     "execution_count": 18,
     "metadata": {},
     "output_type": "execute_result"
    }
   ],
   "source": [
    "aa=np.array([1,2,3])\n",
    "aa"
   ]
  },
  {
   "cell_type": "code",
   "execution_count": 19,
   "id": "10ee60ac-c158-4c8a-b757-9e2ce904f720",
   "metadata": {},
   "outputs": [
    {
     "data": {
      "text/plain": [
       "array([[1],\n",
       "       [2],\n",
       "       [3]])"
      ]
     },
     "execution_count": 19,
     "metadata": {},
     "output_type": "execute_result"
    }
   ],
   "source": [
    "a_2d=a[:,np.newaxis]\n",
    "a_2d"
   ]
  },
  {
   "cell_type": "markdown",
   "id": "5c52045a-29f7-4635-958b-df6229f009f7",
   "metadata": {},
   "source": [
    "Q.N.6 \n",
    "we can sort a Numpy array along a specific axis by using \n",
    "np.sort(array,axis)"
   ]
  },
  {
   "cell_type": "code",
   "execution_count": 20,
   "id": "f7fc43a1-c626-4e45-9f01-3e72e81e45e9",
   "metadata": {},
   "outputs": [
    {
     "data": {
      "text/plain": [
       "array([[3, 1],\n",
       "       [4, 2]])"
      ]
     },
     "execution_count": 20,
     "metadata": {},
     "output_type": "execute_result"
    }
   ],
   "source": [
    "a11=np.array([[3,1],[4,2]])\n",
    "a11"
   ]
  },
  {
   "cell_type": "code",
   "execution_count": 24,
   "id": "a719259a-8d9c-46ba-b2f1-920c16b1079a",
   "metadata": {},
   "outputs": [
    {
     "data": {
      "text/plain": [
       "array([[3, 1],\n",
       "       [4, 2]])"
      ]
     },
     "execution_count": 24,
     "metadata": {},
     "output_type": "execute_result"
    }
   ],
   "source": [
    "sort=np.sort(a11,axis=0)\n",
    "sort"
   ]
  },
  {
   "cell_type": "markdown",
   "id": "70c6900b-8be2-4812-9d03-e338a6b6918b",
   "metadata": {},
   "source": [
    "Q.N.7"
   ]
  },
  {
   "cell_type": "markdown",
   "id": "ad7543ad-5ba5-4d51-98f2-dfaabb629f4f",
   "metadata": {},
   "source": [
    "difference between np.array and np.asarray function\n",
    "\n",
    "np.array always creates a new array\n",
    "np.asarray is used when we want to convert the input to an array. \n",
    "Input can be lists, lists of tuples, tuples, tuples of tuples, tuples of lists and arrays."
   ]
  },
  {
   "cell_type": "code",
   "execution_count": 25,
   "id": "5ba74fa3-c364-4641-998f-768e0665b0d2",
   "metadata": {},
   "outputs": [
    {
     "data": {
      "text/plain": [
       "array([1, 2, 3])"
      ]
     },
     "execution_count": 25,
     "metadata": {},
     "output_type": "execute_result"
    }
   ],
   "source": [
    "ar=np.array([1,2,3])\n",
    "ar"
   ]
  },
  {
   "cell_type": "code",
   "execution_count": 26,
   "id": "8e8a381f-539f-4196-994a-584c2007e7fe",
   "metadata": {},
   "outputs": [
    {
     "data": {
      "text/plain": [
       "[1, 2, 3]"
      ]
     },
     "execution_count": 26,
     "metadata": {},
     "output_type": "execute_result"
    }
   ],
   "source": [
    "list=[1,2,3]\n",
    "list"
   ]
  },
  {
   "cell_type": "code",
   "execution_count": 27,
   "id": "34131f4f-d8e8-467d-b40f-6e202a378a9d",
   "metadata": {},
   "outputs": [
    {
     "data": {
      "text/plain": [
       "array([1, 2, 3])"
      ]
     },
     "execution_count": 27,
     "metadata": {},
     "output_type": "execute_result"
    }
   ],
   "source": [
    "c=np.asarray(list)\n",
    "c"
   ]
  },
  {
   "cell_type": "markdown",
   "id": "6ce38d20-5d72-4150-a5f1-4091a26dc62c",
   "metadata": {},
   "source": [
    "Q.N.8\n",
    "advantages of using Numpy over python's built-in lists for numeric operations\n",
    "--> Faster computations due to optimized C implementations\n",
    "--> Supports multi-dimensional arrays\n",
    "--> Memory-efficient\n",
    "--> provides numerious built in mathematical operations"
   ]
  },
  {
   "cell_type": "markdown",
   "id": "d3ecef3a-1870-44c8-b286-0dd87590f09c",
   "metadata": {},
   "source": [
    "Q.N.9\n",
    "using np.save to save and \n",
    "np.load to load arrays\n",
    "we can save and load Numpy arrays to from disk"
   ]
  },
  {
   "cell_type": "code",
   "execution_count": 40,
   "id": "f80a3526-2c4b-4d76-b6bb-30407013f76d",
   "metadata": {},
   "outputs": [
    {
     "data": {
      "text/plain": [
       "array([1, 2, 3])"
      ]
     },
     "execution_count": 40,
     "metadata": {},
     "output_type": "execute_result"
    }
   ],
   "source": [
    "z=np.array([1,2,3])\n",
    "z\n"
   ]
  },
  {
   "cell_type": "code",
   "execution_count": 41,
   "id": "482f363f-28dd-4429-9d03-4e2d3252d601",
   "metadata": {},
   "outputs": [],
   "source": [
    "np.save('array.npy',z)"
   ]
  },
  {
   "cell_type": "code",
   "execution_count": 42,
   "id": "7ec55768-aeb6-4a9c-bc9a-5c01df2ab9f4",
   "metadata": {},
   "outputs": [],
   "source": [
    "load=np.load(\"array.npy\")\n"
   ]
  },
  {
   "cell_type": "code",
   "execution_count": 43,
   "id": "1fb2dbeb-14f3-46a8-9a80-e20c8850f616",
   "metadata": {},
   "outputs": [
    {
     "data": {
      "text/plain": [
       "array([1, 2, 3])"
      ]
     },
     "execution_count": 43,
     "metadata": {},
     "output_type": "execute_result"
    }
   ],
   "source": [
    "load"
   ]
  },
  {
   "cell_type": "markdown",
   "id": "0c9853ac-644f-412e-95ba-7de244c6eaee",
   "metadata": {},
   "source": [
    "Q.N.10\n",
    "\n",
    "np.where is used to return indices or values based on a condition"
   ]
  },
  {
   "cell_type": "code",
   "execution_count": 47,
   "id": "03eb773c-d060-41b6-bb46-2c94103a8032",
   "metadata": {},
   "outputs": [
    {
     "data": {
      "text/plain": [
       "array([1, 2, 3, 4])"
      ]
     },
     "execution_count": 47,
     "metadata": {},
     "output_type": "execute_result"
    }
   ],
   "source": [
    "array=np.array([1,2,3,4])\n",
    "array"
   ]
  },
  {
   "cell_type": "code",
   "execution_count": 48,
   "id": "24446c9c-ee6b-4dc8-9bbd-a2b960547822",
   "metadata": {},
   "outputs": [
    {
     "data": {
      "text/plain": [
       "(array([2, 3], dtype=int64),)"
      ]
     },
     "execution_count": 48,
     "metadata": {},
     "output_type": "execute_result"
    }
   ],
   "source": [
    "res=np.where(array>2)\n",
    "res"
   ]
  },
  {
   "cell_type": "code",
   "execution_count": null,
   "id": "133dee68-9e4a-448f-99ee-32278a18b80a",
   "metadata": {},
   "outputs": [],
   "source": []
  }
 ],
 "metadata": {
  "kernelspec": {
   "display_name": "Python 3 (ipykernel)",
   "language": "python",
   "name": "python3"
  },
  "language_info": {
   "codemirror_mode": {
    "name": "ipython",
    "version": 3
   },
   "file_extension": ".py",
   "mimetype": "text/x-python",
   "name": "python",
   "nbconvert_exporter": "python",
   "pygments_lexer": "ipython3",
   "version": "3.11.7"
  }
 },
 "nbformat": 4,
 "nbformat_minor": 5
}
