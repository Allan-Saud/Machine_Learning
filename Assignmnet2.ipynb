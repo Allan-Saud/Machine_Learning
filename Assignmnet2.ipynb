{
 "cells": [
  {
   "cell_type": "code",
   "execution_count": 1,
   "id": "016e7126-158a-4d64-8c6a-048c2e359a10",
   "metadata": {},
   "outputs": [],
   "source": [
    "import numpy as np\n"
   ]
  },
  {
   "cell_type": "code",
   "execution_count": 2,
   "id": "4574f11e-3923-4aaa-b15f-542348ac65ef",
   "metadata": {},
   "outputs": [],
   "source": [
    "arr1=np.arange(1,11)"
   ]
  },
  {
   "cell_type": "code",
   "execution_count": 3,
   "id": "1b7ab69f-2e49-410c-9209-43e8b38a213f",
   "metadata": {},
   "outputs": [
    {
     "data": {
      "text/plain": [
       "array([ 1,  2,  3,  4,  5,  6,  7,  8,  9, 10])"
      ]
     },
     "execution_count": 3,
     "metadata": {},
     "output_type": "execute_result"
    }
   ],
   "source": [
    "arr1"
   ]
  },
  {
   "cell_type": "code",
   "execution_count": 4,
   "id": "ad9caa05-725f-4217-9010-a0c71c50c4b6",
   "metadata": {},
   "outputs": [
    {
     "data": {
      "text/plain": [
       "array([[0.22833928, 0.93422705, 0.49109069, 0.76813237],\n",
       "       [0.8109049 , 0.4312444 , 0.26033726, 0.81156139],\n",
       "       [0.6020143 , 0.7266623 , 0.20759139, 0.69324698]])"
      ]
     },
     "execution_count": 4,
     "metadata": {},
     "output_type": "execute_result"
    }
   ],
   "source": [
    "arr2=np.random.rand(3,4)\n",
    "arr2"
   ]
  },
  {
   "cell_type": "code",
   "execution_count": 5,
   "id": "908255a2-2702-4796-9000-021b2a3bea61",
   "metadata": {},
   "outputs": [
    {
     "data": {
      "text/plain": [
       "array([[[0., 0., 0., 0.],\n",
       "        [0., 0., 0., 0.],\n",
       "        [0., 0., 0., 0.]],\n",
       "\n",
       "       [[0., 0., 0., 0.],\n",
       "        [0., 0., 0., 0.],\n",
       "        [0., 0., 0., 0.]]])"
      ]
     },
     "execution_count": 5,
     "metadata": {},
     "output_type": "execute_result"
    }
   ],
   "source": [
    "arr3=np.zeros((2,3,4))\n",
    "arr3"
   ]
  },
  {
   "cell_type": "markdown",
   "id": "52ce1df7-ceea-490c-8d33-f3b310b0e243",
   "metadata": {},
   "source": [
    "Q.N.2\n"
   ]
  },
  {
   "cell_type": "code",
   "execution_count": 16,
   "id": "f0863885-fc2a-46ca-8167-aef1b13ba221",
   "metadata": {},
   "outputs": [
    {
     "data": {
      "text/plain": [
       "array([1, 2, 3])"
      ]
     },
     "execution_count": 16,
     "metadata": {},
     "output_type": "execute_result"
    }
   ],
   "source": [
    "arr_1=np.array([1,2,3])\n",
    "arr_1\n"
   ]
  },
  {
   "cell_type": "code",
   "execution_count": 18,
   "id": "5cb39f1e-700d-469f-a452-30472b42146b",
   "metadata": {},
   "outputs": [
    {
     "data": {
      "text/plain": [
       "array([4, 5, 6])"
      ]
     },
     "execution_count": 18,
     "metadata": {},
     "output_type": "execute_result"
    }
   ],
   "source": [
    "arr_2=np.array([4,5,6])\n",
    "arr_2\n"
   ]
  },
  {
   "cell_type": "code",
   "execution_count": 19,
   "id": "2ce3dd30-c1ea-4da4-9732-c2ffa88614eb",
   "metadata": {},
   "outputs": [],
   "source": [
    "add=arr_1+arr_2"
   ]
  },
  {
   "cell_type": "code",
   "execution_count": 20,
   "id": "a5cbd4e1-a61c-43f6-9035-76285af5527b",
   "metadata": {},
   "outputs": [
    {
     "data": {
      "text/plain": [
       "array([5, 7, 9])"
      ]
     },
     "execution_count": 20,
     "metadata": {},
     "output_type": "execute_result"
    }
   ],
   "source": [
    "add"
   ]
  },
  {
   "cell_type": "code",
   "execution_count": 21,
   "id": "883bc703-59b6-4b36-b5b1-445c2198c3e7",
   "metadata": {},
   "outputs": [
    {
     "data": {
      "text/plain": [
       "array([-3, -3, -3])"
      ]
     },
     "execution_count": 21,
     "metadata": {},
     "output_type": "execute_result"
    }
   ],
   "source": [
    "sub=arr_1-arr_2\n",
    "sub"
   ]
  },
  {
   "cell_type": "code",
   "execution_count": 22,
   "id": "09325978-d6fa-4f28-832e-5547bba29072",
   "metadata": {},
   "outputs": [
    {
     "data": {
      "text/plain": [
       "array([ 4, 10, 18])"
      ]
     },
     "execution_count": 22,
     "metadata": {},
     "output_type": "execute_result"
    }
   ],
   "source": [
    "mul=arr_1*arr_2\n",
    "mul"
   ]
  },
  {
   "cell_type": "code",
   "execution_count": 23,
   "id": "a5f6e1fa-12e7-4b2a-acbf-6905ca656da2",
   "metadata": {},
   "outputs": [
    {
     "data": {
      "text/plain": [
       "array([0.25, 0.4 , 0.5 ])"
      ]
     },
     "execution_count": 23,
     "metadata": {},
     "output_type": "execute_result"
    }
   ],
   "source": [
    "div=arr_1/arr_2\n",
    "div"
   ]
  },
  {
   "cell_type": "code",
   "execution_count": 24,
   "id": "896fc12b-9287-48c2-9da9-aa2247277b07",
   "metadata": {},
   "outputs": [
    {
     "data": {
      "text/plain": [
       "2.0"
      ]
     },
     "execution_count": 24,
     "metadata": {},
     "output_type": "execute_result"
    }
   ],
   "source": [
    "mean=np.mean(arr_1)\n",
    "mean"
   ]
  },
  {
   "cell_type": "code",
   "execution_count": 25,
   "id": "2b0dbf25-9d4f-4e46-81a1-3d01cab2ea0b",
   "metadata": {},
   "outputs": [
    {
     "data": {
      "text/plain": [
       "2.0"
      ]
     },
     "execution_count": 25,
     "metadata": {},
     "output_type": "execute_result"
    }
   ],
   "source": [
    "median=np.median(arr_1)\n",
    "median"
   ]
  },
  {
   "cell_type": "code",
   "execution_count": 26,
   "id": "f2ce479f-cdc1-4cbc-aecf-70c2f396cee2",
   "metadata": {},
   "outputs": [
    {
     "data": {
      "text/plain": [
       "0.816496580927726"
      ]
     },
     "execution_count": 26,
     "metadata": {},
     "output_type": "execute_result"
    }
   ],
   "source": [
    "sd=np.std(arr_1)\n",
    "sd"
   ]
  },
  {
   "cell_type": "code",
   "execution_count": 27,
   "id": "d4b696c0-c1d5-4c65-b1cf-ae45ea04b4cd",
   "metadata": {},
   "outputs": [],
   "source": [
    "array_reshaped=np.arange(12).reshape(3,4)"
   ]
  },
  {
   "cell_type": "code",
   "execution_count": 28,
   "id": "b91149c4-574d-4d73-90e6-f7e49dd46f3f",
   "metadata": {},
   "outputs": [
    {
     "data": {
      "text/plain": [
       "array([[ 0,  1,  2,  3],\n",
       "       [ 4,  5,  6,  7],\n",
       "       [ 8,  9, 10, 11]])"
      ]
     },
     "execution_count": 28,
     "metadata": {},
     "output_type": "execute_result"
    }
   ],
   "source": [
    "array_reshaped"
   ]
  },
  {
   "cell_type": "markdown",
   "id": "57d0d7c8-98c7-4a0b-ba0c-99f517d5f678",
   "metadata": {},
   "source": [
    "Q.N.3\n"
   ]
  },
  {
   "cell_type": "code",
   "execution_count": 30,
   "id": "97cb9aab-97a2-4be4-ac61-5a4d79114837",
   "metadata": {},
   "outputs": [
    {
     "data": {
      "text/plain": [
       "array([[1, 2, 3],\n",
       "       [4, 5, 6],\n",
       "       [7, 8, 9]])"
      ]
     },
     "execution_count": 30,
     "metadata": {},
     "output_type": "execute_result"
    }
   ],
   "source": [
    "arr_2d=np.array([[1,2,3],[4,5,6],[7,8,9]])\n",
    "arr_2d"
   ]
  },
  {
   "cell_type": "code",
   "execution_count": 32,
   "id": "a612fe00-5ba2-4361-99f6-a90d1a73237c",
   "metadata": {},
   "outputs": [
    {
     "data": {
      "text/plain": [
       "array([1, 2, 3])"
      ]
     },
     "execution_count": 32,
     "metadata": {},
     "output_type": "execute_result"
    }
   ],
   "source": [
    "first_row=arr_2d[0,:]\n",
    "first_row"
   ]
  },
  {
   "cell_type": "code",
   "execution_count": 33,
   "id": "2effc33f-ea80-468a-b6fa-b0fdad206071",
   "metadata": {},
   "outputs": [
    {
     "data": {
      "text/plain": [
       "array([3, 6, 9])"
      ]
     },
     "execution_count": 33,
     "metadata": {},
     "output_type": "execute_result"
    }
   ],
   "source": [
    "last_column=arr_2d[:,-1]\n",
    "last_column"
   ]
  },
  {
   "cell_type": "code",
   "execution_count": 34,
   "id": "6cb1cffa-9863-4acd-8d5f-2ca754e1f62b",
   "metadata": {},
   "outputs": [
    {
     "data": {
      "text/plain": [
       "array([3, 2, 1])"
      ]
     },
     "execution_count": 34,
     "metadata": {},
     "output_type": "execute_result"
    }
   ],
   "source": [
    "reversed_array=arr_1[::-1]\n",
    "reversed_array"
   ]
  },
  {
   "cell_type": "code",
   "execution_count": 35,
   "id": "a6d1e926-c53f-4afb-9517-37df47170d08",
   "metadata": {},
   "outputs": [
    {
     "data": {
      "text/plain": [
       "array([6, 7, 8, 9])"
      ]
     },
     "execution_count": 35,
     "metadata": {},
     "output_type": "execute_result"
    }
   ],
   "source": [
    "selected_element=arr_2d[arr_2d>5]\n",
    "selected_element"
   ]
  },
  {
   "cell_type": "markdown",
   "id": "2d4ab192-e576-4178-833a-025a9b4823ce",
   "metadata": {},
   "source": [
    "Q.N.4"
   ]
  },
  {
   "cell_type": "code",
   "execution_count": 36,
   "id": "c3142d79-0e3f-4fb4-bc7e-ff5ee18e57b7",
   "metadata": {},
   "outputs": [
    {
     "data": {
      "text/plain": [
       "array([[11, 12, 13],\n",
       "       [14, 15, 16],\n",
       "       [17, 18, 19]])"
      ]
     },
     "execution_count": 36,
     "metadata": {},
     "output_type": "execute_result"
    }
   ],
   "source": [
    "scalar=arr_2d+10\n",
    "scalar"
   ]
  },
  {
   "cell_type": "code",
   "execution_count": 37,
   "id": "558879fe-f29b-41da-8dcf-5d66135bb491",
   "metadata": {},
   "outputs": [
    {
     "data": {
      "text/plain": [
       "array([[ 1,  4,  9],\n",
       "       [ 4, 10, 18],\n",
       "       [ 7, 16, 27]])"
      ]
     },
     "execution_count": 37,
     "metadata": {},
     "output_type": "execute_result"
    }
   ],
   "source": [
    "arr_1d=np.array([1,2,3])\n",
    "mul=arr_2d*arr_1d\n",
    "mul"
   ]
  },
  {
   "cell_type": "code",
   "execution_count": 38,
   "id": "aaab1ef6-00de-4e1e-831b-9be9d5df32c3",
   "metadata": {},
   "outputs": [
    {
     "data": {
      "text/plain": [
       "32"
      ]
     },
     "execution_count": 38,
     "metadata": {},
     "output_type": "execute_result"
    }
   ],
   "source": [
    "dot_product=np.dot(arr_1,arr_2)\n",
    "dot_product"
   ]
  },
  {
   "cell_type": "code",
   "execution_count": 40,
   "id": "6e9ed8c9-d64a-4fdd-b3df-7585a4af5c87",
   "metadata": {},
   "outputs": [
    {
     "data": {
      "text/plain": [
       "array([[1, 2],\n",
       "       [3, 4]])"
      ]
     },
     "execution_count": 40,
     "metadata": {},
     "output_type": "execute_result"
    }
   ],
   "source": [
    "matrix1=np.array([[1,2],[3,4]])\n",
    "matrix1"
   ]
  },
  {
   "cell_type": "code",
   "execution_count": 41,
   "id": "379c59d4-fc64-4a5c-90fa-8082c897c74a",
   "metadata": {},
   "outputs": [
    {
     "data": {
      "text/plain": [
       "array([[5, 6],\n",
       "       [7, 8]])"
      ]
     },
     "execution_count": 41,
     "metadata": {},
     "output_type": "execute_result"
    }
   ],
   "source": [
    "matrix2=np.array([[5,6],[7,8]])\n",
    "matrix2"
   ]
  },
  {
   "cell_type": "code",
   "execution_count": 42,
   "id": "be21f92d-f3cc-4917-91ce-d6bc8a0f6fb9",
   "metadata": {},
   "outputs": [],
   "source": [
    "matrix_mul=np.dot(matrix1,matrix2)"
   ]
  },
  {
   "cell_type": "code",
   "execution_count": 43,
   "id": "1f4e14eb-d324-4296-b425-497419b4ddd7",
   "metadata": {},
   "outputs": [
    {
     "data": {
      "text/plain": [
       "array([[19, 22],\n",
       "       [43, 50]])"
      ]
     },
     "execution_count": 43,
     "metadata": {},
     "output_type": "execute_result"
    }
   ],
   "source": [
    "matrix_mul"
   ]
  },
  {
   "cell_type": "code",
   "execution_count": 44,
   "id": "dbc0f80c-e263-42e3-b5ec-edce125e7d69",
   "metadata": {},
   "outputs": [
    {
     "data": {
      "text/plain": [
       "array([[1, 2],\n",
       "       [3, 4]])"
      ]
     },
     "execution_count": 44,
     "metadata": {},
     "output_type": "execute_result"
    }
   ],
   "source": [
    "sqrt_matrix=np.array([[1,2],[3,4]])\n",
    "sqrt_matrix"
   ]
  },
  {
   "cell_type": "code",
   "execution_count": 50,
   "id": "ab41fd3d-463c-4e8f-873f-1dac7190aa99",
   "metadata": {},
   "outputs": [
    {
     "data": {
      "text/plain": [
       "array([[-2. ,  1. ],\n",
       "       [ 1.5, -0.5]])"
      ]
     },
     "execution_count": 50,
     "metadata": {},
     "output_type": "execute_result"
    }
   ],
   "source": [
    "inverse=np.linalg.inv(sqrt_matrix)\n",
    "inverse"
   ]
  },
  {
   "cell_type": "code",
   "execution_count": 51,
   "id": "88f351e9-3fc3-4c47-9221-adc7d6a38110",
   "metadata": {},
   "outputs": [
    {
     "data": {
      "text/plain": [
       "-2.0000000000000004"
      ]
     },
     "execution_count": 51,
     "metadata": {},
     "output_type": "execute_result"
    }
   ],
   "source": [
    "determinant=np.linalg.det(sqrt_matrix)\n",
    "determinant"
   ]
  },
  {
   "cell_type": "code",
   "execution_count": null,
   "id": "fb308deb-2dcf-484e-b050-617054515aea",
   "metadata": {},
   "outputs": [],
   "source": []
  }
 ],
 "metadata": {
  "kernelspec": {
   "display_name": "Python 3 (ipykernel)",
   "language": "python",
   "name": "python3"
  },
  "language_info": {
   "codemirror_mode": {
    "name": "ipython",
    "version": 3
   },
   "file_extension": ".py",
   "mimetype": "text/x-python",
   "name": "python",
   "nbconvert_exporter": "python",
   "pygments_lexer": "ipython3",
   "version": "3.11.7"
  }
 },
 "nbformat": 4,
 "nbformat_minor": 5
}
